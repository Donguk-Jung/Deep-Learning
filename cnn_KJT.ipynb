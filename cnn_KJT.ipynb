{
  "cells": [
    {
      "cell_type": "markdown",
      "metadata": {
        "id": "view-in-github",
        "colab_type": "text"
      },
      "source": [
        "<a href=\"https://colab.research.google.com/github/Donguk-Jung/Deep-Learning/blob/main/cnn_KJT.ipynb\" target=\"_parent\"><img src=\"https://colab.research.google.com/assets/colab-badge.svg\" alt=\"Open In Colab\"/></a>"
      ]
    },
    {
      "cell_type": "markdown",
      "metadata": {
        "id": "DSPCom-KmApV"
      },
      "source": [
        "# 프로젝트 샘플 파일"
      ]
    },
    {
      "cell_type": "markdown",
      "metadata": {
        "id": "m7KBpffWzlxH"
      },
      "source": [
        "### 텐서플로 임포트하기"
      ]
    },
    {
      "cell_type": "code",
      "execution_count": 120,
      "metadata": {
        "execution": {
          "iopub.execute_input": "2020-09-23T06:56:39.022990Z",
          "iopub.status.busy": "2020-09-23T06:56:39.022356Z",
          "iopub.status.idle": "2020-09-23T06:57:06.685299Z",
          "shell.execute_reply": "2020-09-23T06:57:06.684568Z"
        },
        "id": "iAve6DCL4JH4"
      },
      "outputs": [],
      "source": [
        "import numpy as np\n",
        "from tensorflow import keras\n",
        "import tensorflow as tf\n",
        "from tensorflow.keras import datasets, layers, models\n",
        "import matplotlib.pyplot as plt\n",
        "tf.random.set_seed(42)"
      ]
    },
    {
      "cell_type": "markdown",
      "metadata": {
        "id": "jRFxccghyMVo"
      },
      "source": [
        "### MNIST 데이터셋 다운로드하고 준비하기"
      ]
    },
    {
      "cell_type": "code",
      "execution_count": 121,
      "metadata": {
        "execution": {
          "iopub.execute_input": "2020-09-23T06:57:06.690956Z",
          "iopub.status.busy": "2020-09-23T06:57:06.690276Z",
          "iopub.status.idle": "2020-09-23T06:57:07.160450Z",
          "shell.execute_reply": "2020-09-23T06:57:07.161087Z"
        },
        "id": "JWoEqyMuXFF4"
      },
      "outputs": [],
      "source": [
        "(train_images, train_labels), (test_images, test_labels) = datasets.mnist.load_data()\n",
        "train_images = train_images.reshape((60000, 28, 28, 1))\n",
        "test_images = test_images.reshape((10000, 28, 28, 1))\n",
        "\n",
        "# 픽셀 값을 0~1 사이로 정규화합니다.\n",
        "train_images, test_images = train_images / 255.0, test_images / 255.0"
      ]
    },
    {
      "cell_type": "markdown",
      "metadata": {
        "id": "Oewp-wYg31t9"
      },
      "source": [
        "### 합성곱 층 만들기\n",
        "\n",
        "아래 model.summary() 의 출력을 참조하여 모델을 구현한다.   \n",
        "단, 모델은  함수형 API를 이용하여 구현한다."
      ]
    },
    {
      "cell_type": "code",
      "execution_count": 122,
      "metadata": {
        "execution": {
          "iopub.execute_input": "2020-09-23T06:57:07.170183Z",
          "iopub.status.busy": "2020-09-23T06:57:07.169467Z",
          "iopub.status.idle": "2020-09-23T06:57:08.142814Z",
          "shell.execute_reply": "2020-09-23T06:57:08.142205Z"
        },
        "id": "L9YmGQBQPrdn"
      },
      "outputs": [],
      "source": [
        "model = Sequential()\n",
        "\n",
        "#합성곱층\n",
        "model.add(Conv2D(32,(3,3), input_shape=(28,28,1), activation = 'relu'))\n",
        "#풀링층\n",
        "model.add(MaxPooling2D(2,2))\n",
        "#합성곱층\n",
        "model.add(Conv2D(64,(3,3), activation = 'relu'))\n",
        "#풀링층\n",
        "model.add(MaxPooling2D(2,2))\n",
        "#합성곱층\n",
        "model.add(Conv2D(64,(3,3), activation = 'relu'))\n",
        "#완전연결층\n",
        "model.add(Flatten())\n",
        "model.add(Dense(64, activation = 'relu'))\n",
        "model.add(Dense(10, activation = 'softmax'))"
      ]
    },
    {
      "cell_type": "code",
      "source": [
        "model.summary()"
      ],
      "metadata": {
        "colab": {
          "base_uri": "https://localhost:8080/"
        },
        "id": "h5wGVmn_kfiK",
        "outputId": "c283b66a-26cd-442a-af1b-0e45e7e22ff5"
      },
      "execution_count": 123,
      "outputs": [
        {
          "output_type": "stream",
          "name": "stdout",
          "text": [
            "Model: \"sequential_13\"\n",
            "_________________________________________________________________\n",
            " Layer (type)                Output Shape              Param #   \n",
            "=================================================================\n",
            " conv2d_39 (Conv2D)          (None, 26, 26, 32)        320       \n",
            "                                                                 \n",
            " max_pooling2d_26 (MaxPoolin  (None, 13, 13, 32)       0         \n",
            " g2D)                                                            \n",
            "                                                                 \n",
            " conv2d_40 (Conv2D)          (None, 11, 11, 64)        18496     \n",
            "                                                                 \n",
            " max_pooling2d_27 (MaxPoolin  (None, 5, 5, 64)         0         \n",
            " g2D)                                                            \n",
            "                                                                 \n",
            " conv2d_41 (Conv2D)          (None, 3, 3, 64)          36928     \n",
            "                                                                 \n",
            " flatten_13 (Flatten)        (None, 576)               0         \n",
            "                                                                 \n",
            " dense_26 (Dense)            (None, 64)                36928     \n",
            "                                                                 \n",
            " dense_27 (Dense)            (None, 10)                650       \n",
            "                                                                 \n",
            "=================================================================\n",
            "Total params: 93,322\n",
            "Trainable params: 93,322\n",
            "Non-trainable params: 0\n",
            "_________________________________________________________________\n"
          ]
        }
      ]
    },
    {
      "cell_type": "markdown",
      "metadata": {
        "id": "P3odqfHP4M67"
      },
      "source": [
        "### 모델 컴파일과 훈련하기 \n",
        "\n",
        "아래 셀에 model.compile 및 model.fit을 구현한다."
      ]
    },
    {
      "cell_type": "code",
      "execution_count": 124,
      "metadata": {
        "execution": {
          "iopub.execute_input": "2020-09-23T06:57:08.205872Z",
          "iopub.status.busy": "2020-09-23T06:57:08.203270Z",
          "iopub.status.idle": "2020-09-23T06:59:03.961533Z",
          "shell.execute_reply": "2020-09-23T06:59:03.962085Z"
        },
        "id": "MdDzI75PUXrG",
        "scrolled": false,
        "colab": {
          "base_uri": "https://localhost:8080/"
        },
        "outputId": "19719314-c773-46cf-ac95-cc175ff0e571"
      },
      "outputs": [
        {
          "output_type": "stream",
          "name": "stdout",
          "text": [
            "Epoch 1/6\n",
            "1407/1407 [==============================] - 12s 8ms/step - loss: 0.1673 - accuracy: 0.9475 - val_loss: 0.0670 - val_accuracy: 0.9804\n",
            "Epoch 2/6\n",
            "1407/1407 [==============================] - 12s 8ms/step - loss: 0.0516 - accuracy: 0.9838 - val_loss: 0.0516 - val_accuracy: 0.9852\n",
            "Epoch 3/6\n",
            "1407/1407 [==============================] - 11s 8ms/step - loss: 0.0345 - accuracy: 0.9891 - val_loss: 0.0426 - val_accuracy: 0.9875\n",
            "Epoch 4/6\n",
            "1407/1407 [==============================] - 12s 8ms/step - loss: 0.0263 - accuracy: 0.9919 - val_loss: 0.0451 - val_accuracy: 0.9869\n",
            "Epoch 5/6\n",
            "1407/1407 [==============================] - 11s 8ms/step - loss: 0.0205 - accuracy: 0.9931 - val_loss: 0.0424 - val_accuracy: 0.9892\n",
            "Epoch 6/6\n",
            "1407/1407 [==============================] - 12s 8ms/step - loss: 0.0175 - accuracy: 0.9942 - val_loss: 0.0405 - val_accuracy: 0.9887\n"
          ]
        }
      ],
      "source": [
        "#학습\n",
        "model.compile(optimizer='adam',loss='sparse_categorical_crossentropy',metrics=['accuracy'])\n",
        "history = model.fit(train_images, train_labels, validation_split=0.25, epochs=6)"
      ]
    },
    {
      "cell_type": "markdown",
      "metadata": {
        "id": "jvRJXHBpKnRC"
      },
      "source": [
        "### 정확도 그래프 그리기 \n",
        "\n",
        "아래 셀에 train과 val의 정확도 그래프를 그린다."
      ]
    },
    {
      "cell_type": "code",
      "execution_count": 125,
      "metadata": {
        "id": "9q_w9VCWKnRC",
        "colab": {
          "base_uri": "https://localhost:8080/",
          "height": 295
        },
        "outputId": "f2ce7f55-2c46-4cdf-a33a-447b1db8b252"
      },
      "outputs": [
        {
          "output_type": "display_data",
          "data": {
            "text/plain": [
              "<Figure size 432x288 with 1 Axes>"
            ],
            "image/png": "[encoded data removed]"
          },
          "metadata": {
            "needs_background": "light"
          }
        }
      ],
      "source": [
        "plt.plot(history.history['accuracy'])\n",
        "plt.plot(history.history['val_accuracy'])\n",
        "plt.title('Model Accuracy')\n",
        "plt.xlabel('Epoch')\n",
        "plt.ylabel('Accuracy')\n",
        "# plt.ylim(0.9,1.0)\n",
        "# plt.xlim(1,10)\n",
        "\n",
        "plt.legend(['Train', 'Val'])\n",
        "plt.show()"
      ]
    },
    {
      "cell_type": "markdown",
      "metadata": {
        "id": "jKgyC5K_4O0d"
      },
      "source": [
        "### 모델 평가 - 아래 셀에 모델 평가 코드를 구현한다."
      ]
    },
    {
      "cell_type": "code",
      "execution_count": 126,
      "metadata": {
        "execution": {
          "iopub.execute_input": "2020-09-23T06:59:03.969095Z",
          "iopub.status.busy": "2020-09-23T06:59:03.967495Z",
          "iopub.status.idle": "2020-09-23T06:59:05.515116Z",
          "shell.execute_reply": "2020-09-23T06:59:05.515662Z"
        },
        "id": "gtyDF0MKUcM7",
        "colab": {
          "base_uri": "https://localhost:8080/"
        },
        "outputId": "8395f798-e557-4365-fcef-7ccbc9381d88"
      },
      "outputs": [
        {
          "output_type": "stream",
          "name": "stdout",
          "text": [
            "313/313 [==============================] - 1s 4ms/step - loss: 0.0330 - accuracy: 0.9901\n"
          ]
        }
      ],
      "source": [
        "test_loss, test_acc = model.evaluate(test_images,  test_labels)"
      ]
    },
    {
      "cell_type": "code",
      "source": [
        "print(test_acc)"
      ],
      "metadata": {
        "colab": {
          "base_uri": "https://localhost:8080/"
        },
        "id": "p6nxJwLICmYb",
        "outputId": "caae68bd-5b58-41c3-acd8-1c7fa9869487"
      },
      "execution_count": 127,
      "outputs": [
        {
          "output_type": "stream",
          "name": "stdout",
          "text": [
            "0.9901000261306763\n"
          ]
        }
      ]
    }
  ],
  "metadata": {
    "accelerator": "GPU",
    "colab": {
      "collapsed_sections": [],
      "name": "cnn_KJT.ipynb",
      "provenance": [],
      "toc_visible": true,
      "include_colab_link": true
    },
    "kernelspec": {
      "display_name": "Python 3 (ipykernel)",
      "language": "python",
      "name": "python3"
    },
    "language_info": {
      "codemirror_mode": {
        "name": "ipython",
        "version": 3
      },
      "file_extension": ".py",
      "mimetype": "text/x-python",
      "name": "python",
      "nbconvert_exporter": "python",
      "pygments_lexer": "ipython3",
      "version": "3.9.7"
    }
  },
  "nbformat": 4,
  "nbformat_minor": 0
}