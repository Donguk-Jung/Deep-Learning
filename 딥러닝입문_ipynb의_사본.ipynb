{
  "nbformat": 4,
  "nbformat_minor": 0,
  "metadata": {
    "colab": {
      "name": "딥러닝입문.ipynb의 사본",
      "provenance": [],
      "collapsed_sections": [],
      "toc_visible": true,
      "authorship_tag": "ABX9TyNdg9TBQCqqawuG4+JT9S3Y",
      "include_colab_link": true
    },
    "kernelspec": {
      "name": "python3",
      "display_name": "Python 3"
    },
    "language_info": {
      "name": "python"
    }
  },
  "cells": [
    {
      "cell_type": "markdown",
      "metadata": {
        "id": "view-in-github",
        "colab_type": "text"
      },
      "source": [
        "<a href=\"https://colab.research.google.com/github/Donguk-Jung/Deep-Learning/blob/main/%EB%94%A5%EB%9F%AC%EB%8B%9D%EC%9E%85%EB%AC%B8_ipynb%EC%9D%98_%EC%82%AC%EB%B3%B8.ipynb\" target=\"_parent\"><img src=\"https://colab.research.google.com/assets/colab-badge.svg\" alt=\"Open In Colab\"/></a>"
      ]
    },
    {
      "cell_type": "markdown",
      "metadata": {
        "id": "L-fC_nqDlALv"
      },
      "source": [
        "# 선형 회귀\n",
        "- Neuron class 만들기 (p69)"
      ]
    },
    {
      "cell_type": "code",
      "metadata": {
        "id": "vcL4CoL3yBVU",
        "colab": {
          "base_uri": "https://localhost:8080/",
          "height": 279
        },
        "outputId": "902142f6-22f3-470b-9b28-4c1b886c822c"
      },
      "source": [
        "import matplotlib.pyplot as plt\n",
        "from sklearn.datasets import load_diabetes\n",
        "diabetes = load_diabetes()\n",
        "#print(diabetes.data.shape, diabetes.target)\n",
        "x = diabetes.data[:,2]\n",
        "y = diabetes.target\n",
        "\n",
        "class Neuron:\n",
        "\n",
        "# 초기화 작업 및 변수 선언\n",
        "  def __init__(self):\n",
        "    self.w = 1.0\n",
        "    self.b = 1.0\n",
        "\n",
        "# 정방향 계산 만들기(직선 방정식)\n",
        "  def forpass(self, x):\n",
        "    y_hat = x*self.w + self.b\n",
        "    return y_hat\n",
        "\n",
        "# 역방향 계산 만들기(가중치와 절편 gradient 계산)\n",
        "  def backprop(self, x, err):\n",
        "    w_grad = x * err\n",
        "    b_grad = 1 * err\n",
        "    return w_grad, b_grad\n",
        "\n",
        "# 훈련을 위한 fit() 메서드 구현 \n",
        "# forpass로 y_hat 구함 -> 오차 구함 -> backprop로 가중치와 절편에 대한 grad 구함 -> 가중치와 절편 update\n",
        "  def fit(self, x, y, epoch=100):\n",
        "    for i in range(epoch):\n",
        "      for x_i, y_i in zip(x,y):\n",
        "        y_hat = self.forpass(x_i)                  # return 값 y_hat\n",
        "        err = -(y_i - y_hat)\n",
        "        w_grad, b_grad = self.backprop(x_i,err)    # return 값 w_grad, b_grad\n",
        "        self.w -= w_grad\n",
        "        self.b -= b_grad\n",
        "\n",
        "# 모델 훈련하기\n",
        "neuron = Neuron()\n",
        "neuron.fit(x,y)\n",
        "\n",
        "# 훈련이 완료된 모델 가중치와 절편 확인하기\n",
        "plt.scatter(x,y)\n",
        "pt1 = (-0.1, -0.1 * neuron.w + neuron.b)\n",
        "pt2 = (0.15, 0.15 * neuron.w + neuron.b)\n",
        "plt.plot([pt1[0],pt2[0]],[pt1[1],pt2[1]])\n",
        "plt.xlabel('x')\n",
        "plt.ylabel('y')\n",
        "plt.show()"
      ],
      "execution_count": null,
      "outputs": [
        {
          "output_type": "display_data",
          "data": {
            "image/png": "[encoded data removed]",
            "text/plain": [
              "<Figure size 432x288 with 1 Axes>"
            ]
          },
          "metadata": {
            "needs_background": "light"
          }
        }
      ]
    },
    {
      "cell_type": "markdown",
      "metadata": {
        "id": "SkHTUYu6knUl"
      },
      "source": [
        "# Logistic 회귀(이진 분류)\n",
        "- 유방암 데이터 세트 활용 (p92)"
      ]
    },
    {
      "cell_type": "code",
      "metadata": {
        "colab": {
          "base_uri": "https://localhost:8080/",
          "height": 352
        },
        "id": "g0vfGXgFmA1M",
        "outputId": "dc8453f1-4317-44c7-9eb3-f178ea052aa2"
      },
      "source": [
        "import matplotlib.pyplot as plt\n",
        "import numpy as np\n",
        "from sklearn.datasets import load_breast_cancer\n",
        "cancer = load_breast_cancer()\n",
        "\n",
        "# Data 형태 파악\n",
        "print(cancer.data.shape,cancer.target.shape)\n",
        "\n",
        "# boxplot 이용하여 눈에 띄는 특성 찾기(4번, 14번, 24번)\n",
        "plt.boxplot(cancer.data)\n",
        "plt.xlabel('feature')\n",
        "plt.ylabel('value')\n",
        "plt.show()\n",
        "\n",
        "# 4,14,24번째 특성의 인덱스를 list로 묶어 전달하여 각 인덱스 특성 확인\n",
        "cancer.feature_names[[3,13,23]]\n",
        "\n",
        "# 타겟 데이터 확인 (0,1)의 갯수 파악\n",
        "# numpy unique 함수 이용하면 고유값 찾아 반환\n",
        "# 이때 return_counts 매개변수를 True로 지정하면 등장 횟수도 반환\n",
        "np.unique(cancer.target, return_counts= True)\n",
        "\n",
        "# 훈련 데이터 세트 저장하기\n",
        "x = cancer.data\n",
        "y = cancer.target\n",
        "\n",
        "# train_test_split()함수로 훈련 데이터 나누기 (훈련 75%, 테스트 25%)\n",
        "from sklearn.model_selection import train_test_split\n",
        "# stratify는 훈련 데이터 class 비율을 원 데이터와 동일하게 / test_size는 검증 데이터 비율 조정\n",
        "x_train, x_test, y_train, y_test = train_test_split(x,y,stratify=y,test_size=0.2, random_state=42)\n",
        "print(x_train.shape, x_test.shape)\n",
        "np.unique(y_train, return_counts=True) # target class 확인 / class 개수 확인\n",
        "\n",
        "# logistic 회귀 구현\n",
        "class LogisticNeuron:\n",
        "\n",
        "  def __init__(self):\n",
        "    self.w = None\n",
        "    self.b = None\n",
        "\n",
        "  def forpass(self,x):\n",
        "    z = np.sum(x*self.w) + self.b   #직선 방정식 계산\n",
        "    return z\n",
        "\n",
        "  def backprop(self, x, err):\n",
        "    w_grad = x*err\n",
        "    b_grad = 1*err\n",
        "    return w_grad, b_grad\n",
        "  \n",
        "  # 훈련 메서드 구현 fit()\n",
        "  def fit(self,x,y,epochs=100):\n",
        "    self.w = np.ones(x.shape[1])    #가중치 1로 초기화, np.full()이용시, 임의값 가능\n",
        "    self.b = 0\n",
        "    for i in range(epochs):\n",
        "      for x_i, y_i in zip(x,y):\n",
        "        z = self.forpass(x_i)       # 정방향 계산\n",
        "        a = self.activation(z)      # 활성화 함수 적용\n",
        "        err = -(y_i - a)            # 오차 계산\n",
        "        w_grad, b_grad = self.backprop(x_i,err)    # 역방향 계산\n",
        "        self.w -= w_grad            # 가중채 update\n",
        "        self.b -= b_grad            # 절편 update\n",
        "\n",
        "  # activation 메서드 구현\n",
        "  def activation(self, z):\n",
        "    a = 1 / (1+np.exp(-z))\n",
        "    return a\n",
        "\n",
        "  # predict() 메서드 구현(예측값은 입력값을 선형함수->활성화함수->임계함수 순으로 통과)\n",
        "  def predict(self,x):\n",
        "    z = [self.forpass(x_i) for x_i in x]      #선형함수 적용\n",
        "    a = self.activation(np.array(z))          #활성화함수 적용\n",
        "    return a > 0.5                            #계단함수 적용\n",
        "\n",
        "# 모델 훈련하기\n",
        "neuron = LogisticNeuron()\n",
        "neuron.fit(x_train, y_train)\n",
        "\n",
        "# 테스트 세트 이용해 모델 정확도 평가\n",
        "np.mean(neuron.predict(x_test) == y_test)\n"
      ],
      "execution_count": null,
      "outputs": [
        {
          "output_type": "stream",
          "name": "stdout",
          "text": [
            "(569, 30) (569,)\n"
          ]
        },
        {
          "output_type": "display_data",
          "data": {
            "image/png": "[encoded data removed]",
            "text/plain": [
              "<Figure size 432x288 with 1 Axes>"
            ]
          },
          "metadata": {
            "needs_background": "light"
          }
        },
        {
          "output_type": "stream",
          "name": "stdout",
          "text": [
            "(455, 30) (114, 30)\n"
          ]
        },
        {
          "output_type": "stream",
          "name": "stderr",
          "text": [
            "/usr/local/lib/python3.7/dist-packages/ipykernel_launcher.py:65: RuntimeWarning: overflow encountered in exp\n"
          ]
        },
        {
          "output_type": "execute_result",
          "data": {
            "text/plain": [
              "0.8245614035087719"
            ]
          },
          "metadata": {},
          "execution_count": 28
        }
      ]
    }
  ]
}